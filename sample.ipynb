{
 "cells": [
  {
   "metadata": {},
   "cell_type": "code",
   "outputs": [],
   "execution_count": null,
   "source": [
    "from transformers import AutoTokenizer, AutoModelForSequenceClassification\n",
    "import torch\n",
    "import requests\n",
    "from bs4 import BeautifulSoup\n",
    "import re"
   ],
   "id": "6f227120a0ab3b0d"
  },
  {
   "metadata": {
    "ExecuteTime": {
     "end_time": "2025-06-20T17:09:57.610474Z",
     "start_time": "2025-06-20T17:09:57.584401Z"
    }
   },
   "cell_type": "code",
   "source": [
    "tokenizer = AutoTokenizer.from_pretrained('nlptown/bert-base-multilingual-uncased-sentiment')\n",
    "model = AutoModelForSequenceClassification.from_pretrained('nlptown/bert-base-multilingual-uncased-sentiment')"
   ],
   "id": "cabe85dec8976c66",
   "outputs": [
    {
     "ename": "NameError",
     "evalue": "name 'AutoTokenizer' is not defined",
     "output_type": "error",
     "traceback": [
      "\u001B[31m---------------------------------------------------------------------------\u001B[39m",
      "\u001B[31mNameError\u001B[39m                                 Traceback (most recent call last)",
      "\u001B[36mCell\u001B[39m\u001B[36m \u001B[39m\u001B[32mIn[4]\u001B[39m\u001B[32m, line 1\u001B[39m\n\u001B[32m----> \u001B[39m\u001B[32m1\u001B[39m tokenizer = AutoTokenizer.from_pretrained(\u001B[33m'\u001B[39m\u001B[33mnlptown/bert-base-multilingual-uncased-sentiment\u001B[39m\u001B[33m'\u001B[39m)\n\u001B[32m      2\u001B[39m model = AutoModelForSequenceClassification.from_pretrained(\u001B[33m'\u001B[39m\u001B[33mnlptown/bert-base-multilingual-uncased-sentiment\u001B[39m\u001B[33m'\u001B[39m)\n",
      "\u001B[31mNameError\u001B[39m: name 'AutoTokenizer' is not defined"
     ]
    }
   ],
   "execution_count": 4
  },
  {
   "metadata": {
    "ExecuteTime": {
     "end_time": "2025-06-20T17:12:02.316420Z",
     "start_time": "2025-06-20T17:12:02.288145Z"
    }
   },
   "cell_type": "code",
   "source": [
    "tokens = tokenizer.encode(\"This is the worst product ever\", return_tensors=\"pt\")\n",
    "print(tokens)"
   ],
   "id": "70c1cef5fff3c9ab",
   "outputs": [
    {
     "ename": "NameError",
     "evalue": "name 'tokenizer' is not defined",
     "output_type": "error",
     "traceback": [
      "\u001B[31m---------------------------------------------------------------------------\u001B[39m",
      "\u001B[31mNameError\u001B[39m                                 Traceback (most recent call last)",
      "\u001B[36mCell\u001B[39m\u001B[36m \u001B[39m\u001B[32mIn[8]\u001B[39m\u001B[32m, line 1\u001B[39m\n\u001B[32m----> \u001B[39m\u001B[32m1\u001B[39m tokens = tokenizer.encode(\u001B[33m\"\u001B[39m\u001B[33mThis is the worst product ever\u001B[39m\u001B[33m\"\u001B[39m, return_tensors=\u001B[33m\"\u001B[39m\u001B[33mpt\u001B[39m\u001B[33m\"\u001B[39m)\n\u001B[32m      2\u001B[39m \u001B[38;5;28mprint\u001B[39m(tokens)\n",
      "\u001B[31mNameError\u001B[39m: name 'tokenizer' is not defined"
     ]
    }
   ],
   "execution_count": 8
  }
 ],
 "metadata": {
  "kernelspec": {
   "display_name": "Python 3",
   "language": "python",
   "name": "python3"
  },
  "language_info": {
   "codemirror_mode": {
    "name": "ipython",
    "version": 2
   },
   "file_extension": ".py",
   "mimetype": "text/x-python",
   "name": "python",
   "nbconvert_exporter": "python",
   "pygments_lexer": "ipython2",
   "version": "2.7.6"
  }
 },
 "nbformat": 4,
 "nbformat_minor": 5
}
