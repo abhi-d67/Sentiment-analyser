{
 "cells": [
  {
   "cell_type": "code",
   "id": "64420c6e-46a8-4006-823f-4cbc60ee6bc8",
   "metadata": {
    "ExecuteTime": {
     "end_time": "2025-06-20T18:26:27.765975Z",
     "start_time": "2025-06-20T18:26:22.236208Z"
    }
   },
   "source": [
    "from transformers import AutoTokenizer, AutoModelForSequenceClassification\n",
    "import torch\n",
    "\n",
    "tokenizer = AutoTokenizer.from_pretrained('nlptown/bert-base-multilingual-uncased-sentiment')\n",
    "model = AutoModelForSequenceClassification.from_pretrained('nlptown/bert-base-multilingual-uncased-sentiment')\n",
    "\n",
    "tokens = tokenizer.encode(\"This is awesome product ever\", return_tensors=\"pt\")\n",
    "result = model(tokens)\n",
    "int(torch.argmax(result.logits))+1"
   ],
   "outputs": [
    {
     "data": {
      "text/plain": [
       "5"
      ]
     },
     "execution_count": 1,
     "metadata": {},
     "output_type": "execute_result"
    }
   ],
   "execution_count": 1
  }
 ],
 "metadata": {
  "kernelspec": {
   "display_name": "Python 3 (ipykernel)",
   "language": "python",
   "name": "python3"
  },
  "language_info": {
   "codemirror_mode": {
    "name": "ipython",
    "version": 3
   },
   "file_extension": ".py",
   "mimetype": "text/x-python",
   "name": "python",
   "nbconvert_exporter": "python",
   "pygments_lexer": "ipython3",
   "version": "3.12.7"
  }
 },
 "nbformat": 4,
 "nbformat_minor": 5
}
